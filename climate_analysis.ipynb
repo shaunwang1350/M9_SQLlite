{
 "cells": [
  {
   "cell_type": "markdown",
   "metadata": {},
   "source": [
    "# Module 9 SQLite"
   ]
  },
  {
   "cell_type": "code",
   "execution_count": 2,
   "metadata": {},
   "outputs": [],
   "source": [
    "%matplotlib inline\n",
    "from matplotlib import style\n",
    "style.use('fivethirtyeight')\n",
    "import matplotlib.pyplot as plt"
   ]
  },
  {
   "cell_type": "code",
   "execution_count": 3,
   "metadata": {},
   "outputs": [],
   "source": [
    "import numpy as np\n",
    "import pandas as pd"
   ]
  },
  {
   "cell_type": "code",
   "execution_count": 4,
   "metadata": {},
   "outputs": [],
   "source": [
    "import datetime as dt"
   ]
  },
  {
   "cell_type": "markdown",
   "metadata": {},
   "source": [
    "### Reflect Tables into SQLAlchemy ORM"
   ]
  },
  {
   "cell_type": "code",
   "execution_count": 5,
   "metadata": {},
   "outputs": [],
   "source": [
    "# Python SQL toolkit and Object Relational Mapper\n",
    "import sqlalchemy\n",
    "from sqlalchemy.ext.automap import automap_base\n",
    "from sqlalchemy.orm import Session\n",
    "from sqlalchemy import create_engine, func"
   ]
  },
  {
   "cell_type": "code",
   "execution_count": 6,
   "metadata": {},
   "outputs": [],
   "source": [
    "engine = create_engine(\"sqlite:///hawaii.sqlite\")"
   ]
  },
  {
   "cell_type": "code",
   "execution_count": 7,
   "metadata": {
    "scrolled": true
   },
   "outputs": [],
   "source": [
    "# reflect an existing database into a new model\n",
    "Base = automap_base()\n",
    "# reflect the tables\n",
    "Base.prepare(engine, reflect=True)"
   ]
  },
  {
   "cell_type": "code",
   "execution_count": 8,
   "metadata": {},
   "outputs": [
    {
     "data": {
      "text/plain": [
       "['measurement', 'station']"
      ]
     },
     "execution_count": 8,
     "metadata": {},
     "output_type": "execute_result"
    }
   ],
   "source": [
    "# We can view all of the classes that automap found\n",
    "Base.classes.keys()"
   ]
  },
  {
   "cell_type": "code",
   "execution_count": 9,
   "metadata": {},
   "outputs": [],
   "source": [
    "# Save references to each table\n",
    "Measurement = Base.classes.measurement\n",
    "Station = Base.classes.station"
   ]
  },
  {
   "cell_type": "code",
   "execution_count": 10,
   "metadata": {},
   "outputs": [],
   "source": [
    "# Create our session (link) from Python to the DB\n",
    "session = Session(engine)"
   ]
  },
  {
   "cell_type": "markdown",
   "metadata": {},
   "source": [
    "### Exploratory Climate Analysis"
   ]
  },
  {
   "cell_type": "code",
   "execution_count": 67,
   "metadata": {},
   "outputs": [
    {
     "data": {
      "text/plain": [
       "<matplotlib.axes._subplots.AxesSubplot at 0x7fa9cbfabe10>"
      ]
     },
     "execution_count": 67,
     "metadata": {},
     "output_type": "execute_result"
    },
    {
     "data": {
      "image/png": "[encoded data removed]",
      "text/plain": [
       "<Figure size 432x288 with 1 Axes>"
      ]
     },
     "metadata": {},
     "output_type": "display_data"
    }
   ],
   "source": [
    "# Design a query to retrieve the last 12 months of precipitation data and plot the results. \n",
    "#Starting from the last data point in the database. \n",
    "prev_year = dt.date(2017, 8, 23)\n",
    "# Calculate the date one year from the last date in data set.\n",
    "prev_year = dt.date(2017, 8, 23) - dt.timedelta(days=365)\n",
    "# Perform a query to retrieve the data and precipitation scores\n",
    "results = []\n",
    "results = session.query(Measurement.date, Measurement.tobs).filter(Measurement.date >= prev_year).all()\n",
    "# Save the query results as a Pandas DataFrame and set the index to the date column\n",
    "df = pd.DataFrame(results, columns=['date', 'temperature'])\n",
    "# Sort the dataframe by date\n",
    "df.set_index(df['date'], inplace=True)\n",
    "df = df.sort_index()\n",
    "# print(df.to_string(index=False))\n",
    "# Use Pandas Plotting with Matplotlib to plot the data\n",
    "df.plot()"
   ]
  },
  {
   "cell_type": "code",
   "execution_count": 70,
   "metadata": {},
   "outputs": [
    {
     "name": "stdout",
     "output_type": "stream",
     "text": [
      "       temperature\n",
      "count  2230.000000\n",
      "mean     74.590583\n",
      "std       4.611667\n",
      "min      58.000000\n",
      "25%      72.000000\n",
      "50%      75.000000\n",
      "75%      78.000000\n",
      "max      87.000000\n"
     ]
    }
   ],
   "source": [
    "# Use Pandas to calcualte the summary statistics for the precipitation data"
   ]
  },
  {
   "cell_type": "code",
   "execution_count": 13,
   "metadata": {},
   "outputs": [
    {
     "data": {
      "text/plain": [
       "[(9)]"
      ]
     },
     "execution_count": 13,
     "metadata": {},
     "output_type": "execute_result"
    }
   ],
   "source": [
    "# How many stations are available in this dataset?\n",
    "session.query(func.count(Station.station)).all()"
   ]
  },
  {
   "cell_type": "code",
   "execution_count": 14,
   "metadata": {},
   "outputs": [
    {
     "data": {
      "text/plain": [
       "[('USC00519281', 2772),\n",
       " ('USC00519397', 2724),\n",
       " ('USC00513117', 2709),\n",
       " ('USC00519523', 2669),\n",
       " ('USC00516128', 2612),\n",
       " ('USC00514830', 2202),\n",
       " ('USC00511918', 1979),\n",
       " ('USC00517948', 1372),\n",
       " ('USC00518838', 511)]"
      ]
     },
     "execution_count": 14,
     "metadata": {},
     "output_type": "execute_result"
    }
   ],
   "source": [
    "# What are the most active stations?\n",
    "# List the stations and the counts in descending order.\n",
    "session.query(Measurement.station, func.count(Measurement.station)).\\\n",
    "group_by(Measurement.station).order_by(func.count(Measurement.station).desc()).all()"
   ]
  },
  {
   "cell_type": "code",
   "execution_count": 15,
   "metadata": {},
   "outputs": [
    {
     "data": {
      "text/plain": [
       "[(54.0, 85.0, 71.66378066378067)]"
      ]
     },
     "execution_count": 15,
     "metadata": {},
     "output_type": "execute_result"
    }
   ],
   "source": [
    "# Using the station id from the previous query, calculate the lowest temperature recorded, \n",
    "# highest temperature recorded, and average temperature most active station?\n",
    "session.query(func.min(Measurement.tobs), func.max(Measurement.tobs), func.avg(Measurement.tobs)).\\\n",
    "filter(Measurement.station == 'USC00519281').all()"
   ]
  },
  {
   "cell_type": "code",
   "execution_count": 16,
   "metadata": {
    "scrolled": true
   },
   "outputs": [
    {
     "data": {
      "image/png": "[encoded data removed]",
      "text/plain": [
       "<Figure size 432x288 with 1 Axes>"
      ]
     },
     "metadata": {},
     "output_type": "display_data"
    }
   ],
   "source": [
    "# Choose the station with the highest number of temperature observations.\n",
    "# Query the last 12 months of temperature observation data for this station and plot the results as a histogram\n",
    "results = session.query(Measurement.tobs).\\\n",
    "filter(Measurement.station == 'USC00519281').\\\n",
    "filter(Measurement.date >= prev_year).all()\n",
    "df = pd.DataFrame(results, columns=['tobs'])\n",
    "df.plot.hist(bins=12)\n",
    "plt.tight_layout()"
   ]
  },
  {
   "cell_type": "code",
   "execution_count": 65,
   "metadata": {},
   "outputs": [
    {
     "data": {
      "text/plain": [
       "[('2017-06-23'),\n",
       " ('2017-06-24'),\n",
       " ('2017-06-25'),\n",
       " ('2017-06-26'),\n",
       " ('2017-06-27'),\n",
       " ('2017-06-28'),\n",
       " ('2017-06-29'),\n",
       " ('2017-06-30'),\n",
       " ('2017-07-01'),\n",
       " ('2017-07-02'),\n",
       " ('2017-07-03'),\n",
       " ('2017-07-04'),\n",
       " ('2017-07-05'),\n",
       " ('2017-07-06'),\n",
       " ('2017-07-07'),\n",
       " ('2017-07-08'),\n",
       " ('2017-07-09'),\n",
       " ('2017-07-10'),\n",
       " ('2017-07-11'),\n",
       " ('2017-07-12'),\n",
       " ('2017-07-13'),\n",
       " ('2017-07-14'),\n",
       " ('2017-07-15'),\n",
       " ('2017-07-16'),\n",
       " ('2017-07-17'),\n",
       " ('2017-07-18'),\n",
       " ('2017-07-20'),\n",
       " ('2017-07-21'),\n",
       " ('2017-07-22'),\n",
       " ('2017-07-23'),\n",
       " ('2017-07-24'),\n",
       " ('2017-07-25'),\n",
       " ('2017-07-26'),\n",
       " ('2017-07-27'),\n",
       " ('2017-07-28'),\n",
       " ('2017-07-29'),\n",
       " ('2017-07-30'),\n",
       " ('2017-07-31'),\n",
       " ('2017-08-01'),\n",
       " ('2017-08-02'),\n",
       " ('2017-08-03'),\n",
       " ('2017-08-04'),\n",
       " ('2017-08-05'),\n",
       " ('2017-08-06'),\n",
       " ('2017-08-07'),\n",
       " ('2017-08-08'),\n",
       " ('2017-08-09'),\n",
       " ('2017-08-10'),\n",
       " ('2017-08-11'),\n",
       " ('2017-08-12'),\n",
       " ('2017-08-13'),\n",
       " ('2017-08-14'),\n",
       " ('2017-08-15'),\n",
       " ('2017-08-18'),\n",
       " ('2017-08-19'),\n",
       " ('2017-08-20'),\n",
       " ('2017-08-21'),\n",
       " ('2017-08-22'),\n",
       " ('2017-08-23'),\n",
       " ('2017-06-23'),\n",
       " ('2017-06-24'),\n",
       " ('2017-06-25'),\n",
       " ('2017-06-26'),\n",
       " ('2017-06-27'),\n",
       " ('2017-06-28'),\n",
       " ('2017-06-29'),\n",
       " ('2017-06-30'),\n",
       " ('2017-07-01'),\n",
       " ('2017-07-02'),\n",
       " ('2017-07-03'),\n",
       " ('2017-07-04'),\n",
       " ('2017-07-05'),\n",
       " ('2017-07-06'),\n",
       " ('2017-07-07'),\n",
       " ('2017-07-08'),\n",
       " ('2017-07-09'),\n",
       " ('2017-07-10'),\n",
       " ('2017-07-11'),\n",
       " ('2017-07-12'),\n",
       " ('2017-07-13'),\n",
       " ('2017-07-14'),\n",
       " ('2017-07-15'),\n",
       " ('2017-07-16'),\n",
       " ('2017-07-17'),\n",
       " ('2017-07-18'),\n",
       " ('2017-07-19'),\n",
       " ('2017-07-20'),\n",
       " ('2017-07-21'),\n",
       " ('2017-07-22'),\n",
       " ('2017-07-23'),\n",
       " ('2017-07-24'),\n",
       " ('2017-07-25'),\n",
       " ('2017-07-26'),\n",
       " ('2017-07-27'),\n",
       " ('2017-07-28'),\n",
       " ('2017-07-29'),\n",
       " ('2017-07-30'),\n",
       " ('2017-07-31'),\n",
       " ('2017-06-23'),\n",
       " ('2017-06-26'),\n",
       " ('2017-06-29'),\n",
       " ('2017-06-30'),\n",
       " ('2017-07-03'),\n",
       " ('2017-07-05'),\n",
       " ('2017-07-07'),\n",
       " ('2017-07-08'),\n",
       " ('2017-07-09'),\n",
       " ('2017-07-10'),\n",
       " ('2017-07-11'),\n",
       " ('2017-07-12'),\n",
       " ('2017-07-13'),\n",
       " ('2017-07-14'),\n",
       " ('2017-07-15'),\n",
       " ('2017-07-16'),\n",
       " ('2017-07-17'),\n",
       " ('2017-07-18'),\n",
       " ('2017-07-19'),\n",
       " ('2017-07-20'),\n",
       " ('2017-07-21'),\n",
       " ('2017-07-22'),\n",
       " ('2017-07-23'),\n",
       " ('2017-07-24'),\n",
       " ('2017-07-25'),\n",
       " ('2017-07-26'),\n",
       " ('2017-07-27'),\n",
       " ('2017-07-28'),\n",
       " ('2017-07-29'),\n",
       " ('2017-07-31'),\n",
       " ('2017-08-01'),\n",
       " ('2017-08-02'),\n",
       " ('2017-08-03'),\n",
       " ('2017-08-04'),\n",
       " ('2017-08-06'),\n",
       " ('2017-08-07'),\n",
       " ('2017-08-08'),\n",
       " ('2017-08-09'),\n",
       " ('2017-08-10'),\n",
       " ('2017-08-11'),\n",
       " ('2017-08-13'),\n",
       " ('2017-08-14'),\n",
       " ('2017-08-15'),\n",
       " ('2017-08-16'),\n",
       " ('2017-08-17'),\n",
       " ('2017-08-18'),\n",
       " ('2017-08-19'),\n",
       " ('2017-08-20'),\n",
       " ('2017-08-21'),\n",
       " ('2017-08-23'),\n",
       " ('2017-06-23'),\n",
       " ('2017-06-26'),\n",
       " ('2017-06-27'),\n",
       " ('2017-06-28'),\n",
       " ('2017-06-29'),\n",
       " ('2017-06-30'),\n",
       " ('2017-07-03'),\n",
       " ('2017-07-05'),\n",
       " ('2017-07-06'),\n",
       " ('2017-07-07'),\n",
       " ('2017-07-10'),\n",
       " ('2017-07-11'),\n",
       " ('2017-07-12'),\n",
       " ('2017-07-13'),\n",
       " ('2017-07-18'),\n",
       " ('2017-07-19'),\n",
       " ('2017-07-20'),\n",
       " ('2017-07-21'),\n",
       " ('2017-07-25'),\n",
       " ('2017-07-26'),\n",
       " ('2017-07-27'),\n",
       " ('2017-07-28'),\n",
       " ('2017-07-31'),\n",
       " ('2017-06-23'),\n",
       " ('2017-06-24'),\n",
       " ('2017-06-25'),\n",
       " ('2017-06-26'),\n",
       " ('2017-06-27'),\n",
       " ('2017-06-28'),\n",
       " ('2017-06-29'),\n",
       " ('2017-06-30'),\n",
       " ('2017-07-02'),\n",
       " ('2017-07-03'),\n",
       " ('2017-07-05'),\n",
       " ('2017-07-06'),\n",
       " ('2017-07-07'),\n",
       " ('2017-07-08'),\n",
       " ('2017-07-09'),\n",
       " ('2017-07-10'),\n",
       " ('2017-07-11'),\n",
       " ('2017-07-12'),\n",
       " ('2017-07-13'),\n",
       " ('2017-07-14'),\n",
       " ('2017-07-15'),\n",
       " ('2017-07-16'),\n",
       " ('2017-07-17'),\n",
       " ('2017-07-18'),\n",
       " ('2017-07-19'),\n",
       " ('2017-07-20'),\n",
       " ('2017-07-21'),\n",
       " ('2017-07-22'),\n",
       " ('2017-07-24'),\n",
       " ('2017-07-25'),\n",
       " ('2017-07-26'),\n",
       " ('2017-07-27'),\n",
       " ('2017-07-28'),\n",
       " ('2017-07-29'),\n",
       " ('2017-07-30'),\n",
       " ('2017-07-31'),\n",
       " ('2017-08-01'),\n",
       " ('2017-08-02'),\n",
       " ('2017-08-03'),\n",
       " ('2017-08-04'),\n",
       " ('2017-08-06'),\n",
       " ('2017-08-07'),\n",
       " ('2017-08-08'),\n",
       " ('2017-08-10'),\n",
       " ('2017-08-11'),\n",
       " ('2017-08-12'),\n",
       " ('2017-08-13'),\n",
       " ('2017-08-14'),\n",
       " ('2017-08-15'),\n",
       " ('2017-08-16'),\n",
       " ('2017-08-17'),\n",
       " ('2017-08-19'),\n",
       " ('2017-08-21'),\n",
       " ('2017-08-22'),\n",
       " ('2017-08-23'),\n",
       " ('2017-06-23'),\n",
       " ('2017-06-24'),\n",
       " ('2017-06-25'),\n",
       " ('2017-06-26'),\n",
       " ('2017-06-27'),\n",
       " ('2017-06-28'),\n",
       " ('2017-06-29'),\n",
       " ('2017-06-30'),\n",
       " ('2017-07-01'),\n",
       " ('2017-07-02'),\n",
       " ('2017-07-03'),\n",
       " ('2017-07-04'),\n",
       " ('2017-07-05'),\n",
       " ('2017-07-06'),\n",
       " ('2017-07-07'),\n",
       " ('2017-07-08'),\n",
       " ('2017-07-09'),\n",
       " ('2017-07-10'),\n",
       " ('2017-07-11'),\n",
       " ('2017-07-12'),\n",
       " ('2017-07-13'),\n",
       " ('2017-07-14'),\n",
       " ('2017-07-15'),\n",
       " ('2017-07-16'),\n",
       " ('2017-07-17'),\n",
       " ('2017-07-18'),\n",
       " ('2017-07-19'),\n",
       " ('2017-07-20'),\n",
       " ('2017-07-21'),\n",
       " ('2017-07-22'),\n",
       " ('2017-07-23'),\n",
       " ('2017-07-24'),\n",
       " ('2017-07-25'),\n",
       " ('2017-07-26'),\n",
       " ('2017-07-27'),\n",
       " ('2017-07-28'),\n",
       " ('2017-07-29'),\n",
       " ('2017-07-30'),\n",
       " ('2017-07-31'),\n",
       " ('2017-08-04'),\n",
       " ('2017-08-05'),\n",
       " ('2017-08-06'),\n",
       " ('2017-08-13'),\n",
       " ('2017-08-14'),\n",
       " ('2017-08-15'),\n",
       " ('2017-08-16'),\n",
       " ('2017-08-17'),\n",
       " ('2017-08-18'),\n",
       " ('2017-06-23'),\n",
       " ('2017-06-24'),\n",
       " ('2017-06-25'),\n",
       " ('2017-06-26'),\n",
       " ('2017-06-27'),\n",
       " ('2017-06-28'),\n",
       " ('2017-06-29'),\n",
       " ('2017-06-30'),\n",
       " ('2017-07-01'),\n",
       " ('2017-07-02'),\n",
       " ('2017-07-03'),\n",
       " ('2017-07-04'),\n",
       " ('2017-07-05'),\n",
       " ('2017-07-06'),\n",
       " ('2017-07-07'),\n",
       " ('2017-07-08'),\n",
       " ('2017-07-09'),\n",
       " ('2017-07-10'),\n",
       " ('2017-07-11'),\n",
       " ('2017-07-12'),\n",
       " ('2017-07-13'),\n",
       " ('2017-07-14'),\n",
       " ('2017-07-15'),\n",
       " ('2017-07-16'),\n",
       " ('2017-07-17'),\n",
       " ('2017-07-18'),\n",
       " ('2017-07-19'),\n",
       " ('2017-07-20'),\n",
       " ('2017-07-21'),\n",
       " ('2017-07-22'),\n",
       " ('2017-07-23'),\n",
       " ('2017-07-24'),\n",
       " ('2017-07-25'),\n",
       " ('2017-07-26'),\n",
       " ('2017-07-27'),\n",
       " ('2017-07-28'),\n",
       " ('2017-07-29'),\n",
       " ('2017-07-30'),\n",
       " ('2017-07-31'),\n",
       " ('2017-08-01'),\n",
       " ('2017-08-02'),\n",
       " ('2017-08-03'),\n",
       " ('2017-08-05'),\n",
       " ('2017-08-06'),\n",
       " ('2017-08-07'),\n",
       " ('2017-08-08'),\n",
       " ('2017-08-09'),\n",
       " ('2017-08-10'),\n",
       " ('2017-08-11'),\n",
       " ('2017-08-12'),\n",
       " ('2017-08-13'),\n",
       " ('2017-08-14'),\n",
       " ('2017-08-15'),\n",
       " ('2017-08-16'),\n",
       " ('2017-08-17'),\n",
       " ('2017-08-18'),\n",
       " ('2017-08-19'),\n",
       " ('2017-08-20'),\n",
       " ('2017-08-21'),\n",
       " ('2017-08-22'),\n",
       " ('2017-08-23')]"
      ]
     },
     "execution_count": 65,
     "metadata": {},
     "output_type": "execute_result"
    }
   ],
   "source": [
    "date = dt.date(2017, 6, 23)\n",
    "session.query(Measurement.date).filter(Measurement.date >= date).all()"
   ]
  },
  {
   "cell_type": "markdown",
   "metadata": {},
   "source": [
    "## Challenge"
   ]
  },
  {
   "cell_type": "markdown",
   "metadata": {},
   "source": [
    "### Identifing key statistical data in June across all of the stations and years using the describe() function."
   ]
  },
  {
   "cell_type": "code",
   "execution_count": 197,
   "metadata": {
    "scrolled": true
   },
   "outputs": [
    {
     "name": "stdout",
     "output_type": "stream",
     "text": [
      "Overall June Temperature Stats:\n",
      "       temperature\n",
      "count   240.000000\n",
      "mean     77.491667\n",
      "std       1.881404\n",
      "min      70.000000\n",
      "25%      77.000000\n",
      "50%      78.000000\n",
      "75%      79.000000\n",
      "max      84.000000\n",
      "\n",
      "Overall June Percipitation Stats:\n",
      "       precipitation\n",
      "count     237.000000\n",
      "mean        0.023586\n",
      "std         0.089633\n",
      "min         0.000000\n",
      "25%         0.000000\n",
      "50%         0.000000\n",
      "75%         0.010000\n",
      "max         0.890000\n"
     ]
    }
   ],
   "source": [
    "# S\n",
    "June_start = dt.date(2010, 6, 1)\n",
    "June_end = dt.date(2010, 6, 30)\n",
    "\n",
    "june_prcp_results = []\n",
    "june_tobs_results = []\n",
    "\n",
    "for year in range(2011, 2020,1):\n",
    "\n",
    "# The following while loop would work; however, it does not take into consideration of leap years, which shifts the data by 2 days at the end.\n",
    "# while June_start <= dt.date(2017,8,23):\n",
    "    \n",
    "    june_prcp_results += session.query(Measurement.date, Measurement.prcp).\\\n",
    "    filter(Measurement.date >= June_start).\\\n",
    "    filter(Measurement.date <= June_end).\\\n",
    "    group_by(Measurement.date).all()\n",
    "\n",
    "    june_tobs_results += session.query(Measurement.date, Measurement.tobs).\\\n",
    "    filter(Measurement.date >= June_start).\\\n",
    "    filter(Measurement.date <= June_end).\\\n",
    "    group_by(Measurement.date).all()\n",
    "\n",
    "# While the following incrementation would work; however, it does not take into consideration of leap years, , which shifts the data by 2 days at the end.\n",
    "#     June_start = June_start + dt.timedelta(seconds=31557600)\n",
    "#     June_end = June_end + dt.timedelta(seconds=31557600)\n",
    "\n",
    "    June_start = dt.date((year), 6, 1)\n",
    "    June_end = dt.date((year), 6, 30)\n",
    "\n",
    "    \n",
    "    # Save the query results as a Pandas DataFrame and set the index to the date column\n",
    "june_prcp_df = pd.DataFrame(june_prcp_results, columns=['date', 'precipitation'])\n",
    "june_tobs_df = pd.DataFrame(june_tobs_results, columns=['date', 'temperature'])\n",
    "\n",
    "june_prcp_stats_df = pd.DataFrame(june_prcp_df.describe())\n",
    "june_tobs_stats_df = pd.DataFrame(june_tobs_df.describe())\n",
    "\n",
    "print(\"Overall June Temperature Stats:\")\n",
    "print(june_tobs_stats_df)\n",
    "print(\"\\nOverall June Percipitation Stats:\")\n",
    "print(june_prcp_stats_df)"
   ]
  },
  {
   "cell_type": "markdown",
   "metadata": {},
   "source": [
    "### Identifing key statistical data in December across all of the stations and years using the describe() function."
   ]
  },
  {
   "cell_type": "code",
   "execution_count": 198,
   "metadata": {
    "scrolled": true
   },
   "outputs": [
    {
     "name": "stdout",
     "output_type": "stream",
     "text": [
      "Overall December Temperature Stats:\n",
      "       temperature\n",
      "count   217.000000\n",
      "mean     71.119816\n",
      "std       3.504550\n",
      "min      56.000000\n",
      "25%      69.000000\n",
      "50%      72.000000\n",
      "75%      74.000000\n",
      "max      77.000000\n",
      "\n",
      "Overall December Percipitation Stats:\n",
      "       precipitation\n",
      "count     214.000000\n",
      "mean        0.112383\n",
      "std         0.454108\n",
      "min         0.000000\n",
      "25%         0.000000\n",
      "50%         0.000000\n",
      "75%         0.040000\n",
      "max         4.940000\n",
      "\n",
      "*No Data exists for Dec 2017, which is why the count is 207; it is a missing a month of data.\n"
     ]
    }
   ],
   "source": [
    "dec_start = dt.date(2010, 12, 1)\n",
    "dec_end = dt.date(2010, 12, 31)\n",
    "\n",
    "dec_prcp_results = []\n",
    "dec_tobs_results = []\n",
    "\n",
    "for year in range(2011, 2020,1):\n",
    "\n",
    "# The following while loop would work; however, it does not take into consideration of leap years, which shifts the data by 2 days at the end.\n",
    "# while dec_start <= dt.date(2017,8,23):\n",
    "    \n",
    "    dec_prcp_results += session.query(Measurement.date, Measurement.prcp).\\\n",
    "    filter(Measurement.date >= dec_start).\\\n",
    "    filter(Measurement.date <= dec_end).\\\n",
    "    group_by(Measurement.date).all()\n",
    "\n",
    "    dec_tobs_results += session.query(Measurement.date, Measurement.tobs).\\\n",
    "    filter(Measurement.date >= dec_start).\\\n",
    "    filter(Measurement.date <= dec_end).\\\n",
    "    group_by(Measurement.date).all()\n",
    "\n",
    "# While the following incrementation would work; however, it does not take into consideration of leap years, , which shifts the data by 2 days at the end.\n",
    "#     dec_start = dec_start + dt.timedelta(seconds=31557600)\n",
    "#     dec_end = dec_end + dt.timedelta(seconds=31557600)\n",
    "\n",
    "    dec_start = dt.date((year), 12, 1)\n",
    "    dec_end = dt.date((year), 12, 31)\n",
    "\n",
    "# Save the query results as a Pandas DataFrame and set the index to the date column\n",
    "dec_prcp_df = pd.DataFrame(dec_prcp_results, columns=['date', 'precipitation'])\n",
    "dec_tobs_df = pd.DataFrame(dec_tobs_results, columns=['date', 'temperature'])\n",
    "\n",
    "dec_prcp_stats_df = pd.DataFrame(dec_prcp_df.describe())\n",
    "dec_tobs_stats_df = pd.DataFrame(dec_tobs_df.describe())\n",
    "\n",
    "print(\"Overall December Temperature Stats:\")\n",
    "print(dec_tobs_stats_df)\n",
    "print(\"\\nOverall December Percipitation Stats:\")\n",
    "print(dec_prcp_stats_df)\n",
    "print(\"\\n*No Data exists for Dec 2017, which is why the count is 214; it is a missing a month of data.\")"
   ]
  },
  {
   "cell_type": "markdown",
   "metadata": {},
   "source": [
    "### Comparing findings between the month of June and December"
   ]
  },
  {
   "cell_type": "code",
   "execution_count": 195,
   "metadata": {
    "scrolled": true
   },
   "outputs": [
    {
     "data": {
      "text/html": [
       "<div>\n",
       "<style scoped>\n",
       "    .dataframe tbody tr th:only-of-type {\n",
       "        vertical-align: middle;\n",
       "    }\n",
       "\n",
       "    .dataframe tbody tr th {\n",
       "        vertical-align: top;\n",
       "    }\n",
       "\n",
       "    .dataframe thead th {\n",
       "        text-align: right;\n",
       "    }\n",
       "</style>\n",
       "<table border=\"1\" class=\"dataframe\">\n",
       "  <thead>\n",
       "    <tr style=\"text-align: right;\">\n",
       "      <th></th>\n",
       "      <th>precipitation for june</th>\n",
       "      <th>precipitation for december</th>\n",
       "      <th>difference</th>\n",
       "    </tr>\n",
       "  </thead>\n",
       "  <tbody>\n",
       "    <tr>\n",
       "      <th>count</th>\n",
       "      <td>237.000000</td>\n",
       "      <td>214.000000</td>\n",
       "      <td>23.000000</td>\n",
       "    </tr>\n",
       "    <tr>\n",
       "      <th>mean</th>\n",
       "      <td>0.023586</td>\n",
       "      <td>0.112383</td>\n",
       "      <td>-0.088797</td>\n",
       "    </tr>\n",
       "    <tr>\n",
       "      <th>std</th>\n",
       "      <td>0.089633</td>\n",
       "      <td>0.454108</td>\n",
       "      <td>-0.364475</td>\n",
       "    </tr>\n",
       "    <tr>\n",
       "      <th>min</th>\n",
       "      <td>0.000000</td>\n",
       "      <td>0.000000</td>\n",
       "      <td>0.000000</td>\n",
       "    </tr>\n",
       "    <tr>\n",
       "      <th>25%</th>\n",
       "      <td>0.000000</td>\n",
       "      <td>0.000000</td>\n",
       "      <td>0.000000</td>\n",
       "    </tr>\n",
       "    <tr>\n",
       "      <th>50%</th>\n",
       "      <td>0.000000</td>\n",
       "      <td>0.000000</td>\n",
       "      <td>0.000000</td>\n",
       "    </tr>\n",
       "    <tr>\n",
       "      <th>75%</th>\n",
       "      <td>0.010000</td>\n",
       "      <td>0.040000</td>\n",
       "      <td>-0.030000</td>\n",
       "    </tr>\n",
       "    <tr>\n",
       "      <th>max</th>\n",
       "      <td>0.890000</td>\n",
       "      <td>4.940000</td>\n",
       "      <td>-4.050000</td>\n",
       "    </tr>\n",
       "  </tbody>\n",
       "</table>\n",
       "</div>"
      ],
      "text/plain": [
       "       precipitation for june  precipitation for december  difference\n",
       "count              237.000000                  214.000000   23.000000\n",
       "mean                 0.023586                    0.112383   -0.088797\n",
       "std                  0.089633                    0.454108   -0.364475\n",
       "min                  0.000000                    0.000000    0.000000\n",
       "25%                  0.000000                    0.000000    0.000000\n",
       "50%                  0.000000                    0.000000    0.000000\n",
       "75%                  0.010000                    0.040000   -0.030000\n",
       "max                  0.890000                    4.940000   -4.050000"
      ]
     },
     "execution_count": 195,
     "metadata": {},
     "output_type": "execute_result"
    }
   ],
   "source": [
    "prcp_comp_df = june_prcp_stats_df.join(dec_prcp_stats_df, lsuffix=' for june', rsuffix=' for december')\n",
    "prcp_comp_df['difference'] = prcp_comp_df['precipitation for june'] - prcp_comp_df['precipitation for december']\n",
    "prcp_comp_df"
   ]
  },
  {
   "cell_type": "code",
   "execution_count": 196,
   "metadata": {},
   "outputs": [
    {
     "data": {
      "text/html": [
       "<div>\n",
       "<style scoped>\n",
       "    .dataframe tbody tr th:only-of-type {\n",
       "        vertical-align: middle;\n",
       "    }\n",
       "\n",
       "    .dataframe tbody tr th {\n",
       "        vertical-align: top;\n",
       "    }\n",
       "\n",
       "    .dataframe thead th {\n",
       "        text-align: right;\n",
       "    }\n",
       "</style>\n",
       "<table border=\"1\" class=\"dataframe\">\n",
       "  <thead>\n",
       "    <tr style=\"text-align: right;\">\n",
       "      <th></th>\n",
       "      <th>temperature for june</th>\n",
       "      <th>temperature for december</th>\n",
       "      <th>difference</th>\n",
       "    </tr>\n",
       "  </thead>\n",
       "  <tbody>\n",
       "    <tr>\n",
       "      <th>count</th>\n",
       "      <td>240.000000</td>\n",
       "      <td>217.000000</td>\n",
       "      <td>23.000000</td>\n",
       "    </tr>\n",
       "    <tr>\n",
       "      <th>mean</th>\n",
       "      <td>77.491667</td>\n",
       "      <td>71.119816</td>\n",
       "      <td>6.371851</td>\n",
       "    </tr>\n",
       "    <tr>\n",
       "      <th>std</th>\n",
       "      <td>1.881404</td>\n",
       "      <td>3.504550</td>\n",
       "      <td>-1.623147</td>\n",
       "    </tr>\n",
       "    <tr>\n",
       "      <th>min</th>\n",
       "      <td>70.000000</td>\n",
       "      <td>56.000000</td>\n",
       "      <td>14.000000</td>\n",
       "    </tr>\n",
       "    <tr>\n",
       "      <th>25%</th>\n",
       "      <td>77.000000</td>\n",
       "      <td>69.000000</td>\n",
       "      <td>8.000000</td>\n",
       "    </tr>\n",
       "    <tr>\n",
       "      <th>50%</th>\n",
       "      <td>78.000000</td>\n",
       "      <td>72.000000</td>\n",
       "      <td>6.000000</td>\n",
       "    </tr>\n",
       "    <tr>\n",
       "      <th>75%</th>\n",
       "      <td>79.000000</td>\n",
       "      <td>74.000000</td>\n",
       "      <td>5.000000</td>\n",
       "    </tr>\n",
       "    <tr>\n",
       "      <th>max</th>\n",
       "      <td>84.000000</td>\n",
       "      <td>77.000000</td>\n",
       "      <td>7.000000</td>\n",
       "    </tr>\n",
       "  </tbody>\n",
       "</table>\n",
       "</div>"
      ],
      "text/plain": [
       "       temperature for june  temperature for december  difference\n",
       "count            240.000000                217.000000   23.000000\n",
       "mean              77.491667                 71.119816    6.371851\n",
       "std                1.881404                  3.504550   -1.623147\n",
       "min               70.000000                 56.000000   14.000000\n",
       "25%               77.000000                 69.000000    8.000000\n",
       "50%               78.000000                 72.000000    6.000000\n",
       "75%               79.000000                 74.000000    5.000000\n",
       "max               84.000000                 77.000000    7.000000"
      ]
     },
     "execution_count": 196,
     "metadata": {},
     "output_type": "execute_result"
    }
   ],
   "source": [
    "tobs_comp_df = june_tobs_stats_df.join(dec_tobs_stats_df, lsuffix=' for june', rsuffix=' for december')\n",
    "tobs_comp_df['difference'] = tobs_comp_df['temperature for june'] - tobs_comp_df['temperature for december']\n",
    "tobs_comp_df"
   ]
  },
  {
   "cell_type": "code",
   "execution_count": null,
   "metadata": {},
   "outputs": [],
   "source": []
  }
 ],
 "metadata": {
  "kernelspec": {
   "display_name": "Python 3",
   "language": "python",
   "name": "python3"
  },
  "language_info": {
   "codemirror_mode": {
    "name": "ipython",
    "version": 3
   },
   "file_extension": ".py",
   "mimetype": "text/x-python",
   "name": "python",
   "nbconvert_exporter": "python",
   "pygments_lexer": "ipython3",
   "version": "3.7.6"
  }
 },
 "nbformat": 4,
 "nbformat_minor": 2
}
